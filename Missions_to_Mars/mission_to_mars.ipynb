{
 "cells": [
  {
   "cell_type": "code",
   "execution_count": 1,
   "metadata": {},
   "outputs": [],
   "source": [
    "from splinter import Browser\n",
    "from bs4 import BeautifulSoup\n",
    "import requests\n",
    "import pandas as pd"
   ]
  },
  {
   "cell_type": "code",
   "execution_count": null,
   "metadata": {},
   "outputs": [],
   "source": [
    "executable_path = {'executable_path': '/Users/kcyou/Documents/DataBootcamp/ChromeDriver/chromedriver.exe'}\n",
    "browser = Browser('chrome', **executable_path, headless=False)"
   ]
  },
  {
   "cell_type": "markdown",
   "metadata": {},
   "source": [
    "### NASA Mars News"
   ]
  },
  {
   "cell_type": "code",
   "execution_count": null,
   "metadata": {},
   "outputs": [],
   "source": [
    "url = 'https://mars.nasa.gov/news/'\n",
    "browser.visit(url)"
   ]
  },
  {
   "cell_type": "code",
   "execution_count": null,
   "metadata": {},
   "outputs": [],
   "source": [
    "html = browser.html\n",
    "soup = BeautifulSoup(html, 'html.parser')\n",
    "articles = soup.find_all('div', class_='list_text')"
   ]
  },
  {
   "cell_type": "code",
   "execution_count": null,
   "metadata": {},
   "outputs": [],
   "source": [
    "print(len(articles))"
   ]
  },
  {
   "cell_type": "code",
   "execution_count": null,
   "metadata": {},
   "outputs": [],
   "source": [
    "news_title = articles[0].find('a').text\n",
    "print(news_title)"
   ]
  },
  {
   "cell_type": "code",
   "execution_count": null,
   "metadata": {},
   "outputs": [],
   "source": [
    "news_p = articles[0].find('div', class_='article_teaser_body').text\n",
    "print(news_p)"
   ]
  },
  {
   "cell_type": "markdown",
   "metadata": {},
   "source": [
    "### JPL Mars Space Images - Featured Image"
   ]
  },
  {
   "cell_type": "code",
   "execution_count": null,
   "metadata": {},
   "outputs": [],
   "source": [
    "url = 'https://www.jpl.nasa.gov/spaceimages/?search=&category=Mars'\n",
    "browser.visit(url)"
   ]
  },
  {
   "cell_type": "code",
   "execution_count": null,
   "metadata": {},
   "outputs": [],
   "source": [
    "html = browser.html\n",
    "soup = BeautifulSoup(html, 'html.parser')\n",
    "image = soup.find_all('article', class_='carousel_item')"
   ]
  },
  {
   "cell_type": "code",
   "execution_count": null,
   "metadata": {},
   "outputs": [],
   "source": [
    "s_url = 'https://www.jpl.nasa.gov'\n",
    "e_url = image[0].find('a', class_='button fancybox')['data-fancybox-href']\n",
    "print(e_url)\n",
    "\n",
    "featured_image_url = s_url + e_url\n",
    "print(featured_image_url)"
   ]
  },
  {
   "cell_type": "markdown",
   "metadata": {},
   "source": [
    "### Mars Facts"
   ]
  },
  {
   "cell_type": "code",
   "execution_count": null,
   "metadata": {},
   "outputs": [],
   "source": [
    "url = 'https://space-facts.com/mars/'"
   ]
  },
  {
   "cell_type": "code",
   "execution_count": null,
   "metadata": {},
   "outputs": [],
   "source": [
    "mars_tables = pd.read_html(url)\n",
    "print(len(mars_tables))"
   ]
  },
  {
   "cell_type": "code",
   "execution_count": null,
   "metadata": {},
   "outputs": [],
   "source": [
    "mars_tables[0].columns = ['Name', 'Value']\n",
    "mars_data = mars_tables[0]\n",
    "mars_data"
   ]
  },
  {
   "cell_type": "code",
   "execution_count": null,
   "metadata": {
    "scrolled": true
   },
   "outputs": [],
   "source": [
    "mars_html = mars_data.to_html()\n",
    "print(mars_html)"
   ]
  },
  {
   "cell_type": "markdown",
   "metadata": {},
   "source": [
    "### Mars Hemispheres"
   ]
  },
  {
   "cell_type": "code",
   "execution_count": 2,
   "metadata": {},
   "outputs": [],
   "source": [
    "url = 'https://astrogeology.usgs.gov/search/results?q=hemisphere+enhanced&k1=target&v1=Mars'\n",
    "response = requests.get(url)"
   ]
  },
  {
   "cell_type": "code",
   "execution_count": 3,
   "metadata": {},
   "outputs": [
    {
     "name": "stdout",
     "output_type": "stream",
     "text": [
      "0\n"
     ]
    }
   ],
   "source": [
    "soup = BeautifulSoup(response.text, 'html.parser')\n",
    "\n",
    "links = soup.find_all('div', class_='item')\n",
    "print(len(links))"
   ]
  },
  {
   "cell_type": "code",
   "execution_count": null,
   "metadata": {},
   "outputs": [],
   "source": [
    "b_url = 'https://astrogeology.usgs.gov'\n",
    "page_list = []\n",
    "\n",
    "for link in links:\n",
    "    img_page = link.find('a', class_='itemLink product-item')['href']\n",
    "    print(img_page)\n",
    "    page_url = b_url + img_page\n",
    "    page_list.append(page_url)\n",
    "\n",
    "print(page_list)"
   ]
  },
  {
   "cell_type": "code",
   "execution_count": null,
   "metadata": {},
   "outputs": [],
   "source": [
    "hemisphere_image_urls = []\n",
    "count = 0\n",
    "\n",
    "for url in page_list:\n",
    "    response = requests.get(url)\n",
    "    soup = BeautifulSoup(response.text, 'html.parser')\n",
    "    data = soup.find_all('div', class_='downloads')\n",
    "    hemi_img_url = data[0].find('a')['href']\n",
    "    \n",
    "    print(hemi_img_url)\n",
    "    \n",
    "    data = soup.find_all('section', class_='block metadata')\n",
    "    title = data[0].find('h2', class_='title').text\n",
    "    hemi_title = title.replace('Enhanced', '').rstrip()\n",
    "    \n",
    "    print(hemi_title)\n",
    "    \n",
    "    hemisphere_image_urls.append({'title': hemi_title, 'img_url': hemi_img_url})\n",
    "\n",
    "print(hemisphere_image_urls)"
   ]
  },
  {
   "cell_type": "markdown",
   "metadata": {},
   "source": [
    "### Extra - Scrape Mars Table for Python Code"
   ]
  },
  {
   "cell_type": "code",
   "execution_count": 4,
   "metadata": {},
   "outputs": [],
   "source": [
    "url = 'https://space-facts.com/mars/'\n",
    "response = requests.get(url)\n",
    "\n",
    "\n",
    "soup = BeautifulSoup(response.text, 'html.parser')\n",
    "table_info = soup.find('table', class_='tablepress tablepress-id-p-mars')"
   ]
  },
  {
   "cell_type": "code",
   "execution_count": 5,
   "metadata": {
    "scrolled": true
   },
   "outputs": [
    {
     "name": "stdout",
     "output_type": "stream",
     "text": [
      "<table class=\"tablepress tablepress-id-p-mars\" id=\"tablepress-p-mars\">\n",
      " <tbody>\n",
      "  <tr class=\"row-1 odd\">\n",
      "   <td class=\"column-1\">\n",
      "    <strong>\n",
      "     Equatorial Diameter:\n",
      "    </strong>\n",
      "   </td>\n",
      "   <td class=\"column-2\">\n",
      "    6,792 km\n",
      "    <br/>\n",
      "   </td>\n",
      "  </tr>\n",
      "  <tr class=\"row-2 even\">\n",
      "   <td class=\"column-1\">\n",
      "    <strong>\n",
      "     Polar Diameter:\n",
      "    </strong>\n",
      "   </td>\n",
      "   <td class=\"column-2\">\n",
      "    6,752 km\n",
      "    <br/>\n",
      "   </td>\n",
      "  </tr>\n",
      "  <tr class=\"row-3 odd\">\n",
      "   <td class=\"column-1\">\n",
      "    <strong>\n",
      "     Mass:\n",
      "    </strong>\n",
      "   </td>\n",
      "   <td class=\"column-2\">\n",
      "    6.39 × 10^23 kg\n",
      "    <br/>\n",
      "    (0.11 Earths)\n",
      "   </td>\n",
      "  </tr>\n",
      "  <tr class=\"row-4 even\">\n",
      "   <td class=\"column-1\">\n",
      "    <strong>\n",
      "     Moons:\n",
      "    </strong>\n",
      "   </td>\n",
      "   <td class=\"column-2\">\n",
      "    2 (\n",
      "    <a href=\"https://space-facts.com/moons/phobos/\">\n",
      "     Phobos\n",
      "    </a>\n",
      "    &amp;\n",
      "    <a href=\"https://space-facts.com/moons/deimos/\">\n",
      "     Deimos\n",
      "    </a>\n",
      "    )\n",
      "   </td>\n",
      "  </tr>\n",
      "  <tr class=\"row-5 odd\">\n",
      "   <td class=\"column-1\">\n",
      "    <strong>\n",
      "     Orbit Distance:\n",
      "    </strong>\n",
      "   </td>\n",
      "   <td class=\"column-2\">\n",
      "    227,943,824 km\n",
      "    <br/>\n",
      "    (1.38 AU)\n",
      "   </td>\n",
      "  </tr>\n",
      "  <tr class=\"row-6 even\">\n",
      "   <td class=\"column-1\">\n",
      "    <strong>\n",
      "     Orbit Period:\n",
      "    </strong>\n",
      "   </td>\n",
      "   <td class=\"column-2\">\n",
      "    687 days (1.9 years)\n",
      "    <br/>\n",
      "   </td>\n",
      "  </tr>\n",
      "  <tr class=\"row-7 odd\">\n",
      "   <td class=\"column-1\">\n",
      "    <strong>\n",
      "     Surface Temperature:\n",
      "    </strong>\n",
      "   </td>\n",
      "   <td class=\"column-2\">\n",
      "    -87 to -5 °C\n",
      "   </td>\n",
      "  </tr>\n",
      "  <tr class=\"row-8 even\">\n",
      "   <td class=\"column-1\">\n",
      "    <strong>\n",
      "     First Record:\n",
      "    </strong>\n",
      "   </td>\n",
      "   <td class=\"column-2\">\n",
      "    2nd millennium BC\n",
      "   </td>\n",
      "  </tr>\n",
      "  <tr class=\"row-9 odd\">\n",
      "   <td class=\"column-1\">\n",
      "    <strong>\n",
      "     Recorded By:\n",
      "    </strong>\n",
      "   </td>\n",
      "   <td class=\"column-2\">\n",
      "    Egyptian astronomers\n",
      "   </td>\n",
      "  </tr>\n",
      " </tbody>\n",
      "</table>\n"
     ]
    }
   ],
   "source": [
    "print(table_info.prettify())"
   ]
  },
  {
   "cell_type": "code",
   "execution_count": 6,
   "metadata": {},
   "outputs": [
    {
     "name": "stdout",
     "output_type": "stream",
     "text": [
      "[{'name': 'Equatorial Diameter', 'value': '6,792 km'}]\n",
      "[{'name': 'Equatorial Diameter', 'value': '6,792 km'}, {'name': 'Polar Diameter', 'value': '6,752 km'}]\n",
      "[{'name': 'Equatorial Diameter', 'value': '6,792 km'}, {'name': 'Polar Diameter', 'value': '6,752 km'}, {'name': 'Mass', 'value': '6.39 × 10^23 kg (0.11 Earths)'}]\n",
      "[{'name': 'Equatorial Diameter', 'value': '6,792 km'}, {'name': 'Polar Diameter', 'value': '6,752 km'}, {'name': 'Mass', 'value': '6.39 × 10^23 kg (0.11 Earths)'}, {'name': 'Moons', 'value': '2 (Phobos & Deimos)'}]\n",
      "[{'name': 'Equatorial Diameter', 'value': '6,792 km'}, {'name': 'Polar Diameter', 'value': '6,752 km'}, {'name': 'Mass', 'value': '6.39 × 10^23 kg (0.11 Earths)'}, {'name': 'Moons', 'value': '2 (Phobos & Deimos)'}, {'name': 'Orbit Distance', 'value': '227,943,824 km (1.38 AU)'}]\n",
      "[{'name': 'Equatorial Diameter', 'value': '6,792 km'}, {'name': 'Polar Diameter', 'value': '6,752 km'}, {'name': 'Mass', 'value': '6.39 × 10^23 kg (0.11 Earths)'}, {'name': 'Moons', 'value': '2 (Phobos & Deimos)'}, {'name': 'Orbit Distance', 'value': '227,943,824 km (1.38 AU)'}, {'name': 'Orbit Period', 'value': '687 days (1.9 years)'}]\n",
      "[{'name': 'Equatorial Diameter', 'value': '6,792 km'}, {'name': 'Polar Diameter', 'value': '6,752 km'}, {'name': 'Mass', 'value': '6.39 × 10^23 kg (0.11 Earths)'}, {'name': 'Moons', 'value': '2 (Phobos & Deimos)'}, {'name': 'Orbit Distance', 'value': '227,943,824 km (1.38 AU)'}, {'name': 'Orbit Period', 'value': '687 days (1.9 years)'}, {'name': 'Surface Temperature', 'value': '-87 to -5 °C'}]\n",
      "[{'name': 'Equatorial Diameter', 'value': '6,792 km'}, {'name': 'Polar Diameter', 'value': '6,752 km'}, {'name': 'Mass', 'value': '6.39 × 10^23 kg (0.11 Earths)'}, {'name': 'Moons', 'value': '2 (Phobos & Deimos)'}, {'name': 'Orbit Distance', 'value': '227,943,824 km (1.38 AU)'}, {'name': 'Orbit Period', 'value': '687 days (1.9 years)'}, {'name': 'Surface Temperature', 'value': '-87 to -5 °C'}, {'name': 'First Record', 'value': '2nd millennium BC'}]\n",
      "[{'name': 'Equatorial Diameter', 'value': '6,792 km'}, {'name': 'Polar Diameter', 'value': '6,752 km'}, {'name': 'Mass', 'value': '6.39 × 10^23 kg (0.11 Earths)'}, {'name': 'Moons', 'value': '2 (Phobos & Deimos)'}, {'name': 'Orbit Distance', 'value': '227,943,824 km (1.38 AU)'}, {'name': 'Orbit Period', 'value': '687 days (1.9 years)'}, {'name': 'Surface Temperature', 'value': '-87 to -5 °C'}, {'name': 'First Record', 'value': '2nd millennium BC'}, {'name': 'Recorded By', 'value': 'Egyptian astronomers'}]\n",
      "{'mars_tbl_info': [{'name': 'Equatorial Diameter', 'value': '6,792 km'}, {'name': 'Polar Diameter', 'value': '6,752 km'}, {'name': 'Mass', 'value': '6.39 × 10^23 kg (0.11 Earths)'}, {'name': 'Moons', 'value': '2 (Phobos & Deimos)'}, {'name': 'Orbit Distance', 'value': '227,943,824 km (1.38 AU)'}, {'name': 'Orbit Period', 'value': '687 days (1.9 years)'}, {'name': 'Surface Temperature', 'value': '-87 to -5 °C'}, {'name': 'First Record', 'value': '2nd millennium BC'}, {'name': 'Recorded By', 'value': 'Egyptian astronomers'}]}\n"
     ]
    }
   ],
   "source": [
    "mars_tbl_info = []\n",
    "\n",
    "mars_data = {}\n",
    "\n",
    "for info in table_info.find_all('tr'):\n",
    "    data = info.find('td', class_=\"column-1\").text\n",
    "    name = data.replace(':', '').rstrip()\n",
    "    \n",
    "    val = info.find('td', class_=\"column-2\").text\n",
    "    \n",
    "    mars_tbl_info.append({'name': name, 'value': val})\n",
    "    print(mars_tbl_info)\n",
    "  \n",
    "mars_data['mars_tbl_info'] = mars_tbl_info\n",
    "print(mars_data)\n"
   ]
  },
  {
   "cell_type": "code",
   "execution_count": null,
   "metadata": {},
   "outputs": [],
   "source": []
  },
  {
   "cell_type": "code",
   "execution_count": null,
   "metadata": {},
   "outputs": [],
   "source": []
  }
 ],
 "metadata": {
  "kernelspec": {
   "display_name": "Python 3",
   "language": "python",
   "name": "python3"
  },
  "language_info": {
   "codemirror_mode": {
    "name": "ipython",
    "version": 3
   },
   "file_extension": ".py",
   "mimetype": "text/x-python",
   "name": "python",
   "nbconvert_exporter": "python",
   "pygments_lexer": "ipython3",
   "version": "3.8.3"
  }
 },
 "nbformat": 4,
 "nbformat_minor": 4
}
